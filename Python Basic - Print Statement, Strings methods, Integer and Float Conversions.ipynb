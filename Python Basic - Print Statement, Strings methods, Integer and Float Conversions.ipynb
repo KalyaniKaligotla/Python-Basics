{
 "cells": [
  {
   "cell_type": "code",
   "execution_count": 1,
   "id": "96b2e120",
   "metadata": {},
   "outputs": [],
   "source": [
    "# In Python we can print the statements using print() function\n",
    "# syntax --> print(\"string\", end = '', sep = '')\n",
    "# example printing Hello World!"
   ]
  },
  {
   "cell_type": "code",
   "execution_count": 2,
   "id": "a2716683",
   "metadata": {},
   "outputs": [
    {
     "name": "stdout",
     "output_type": "stream",
     "text": [
      "Hello World!\n"
     ]
    }
   ],
   "source": [
    "print(\"Hello World!\")"
   ]
  },
  {
   "cell_type": "code",
   "execution_count": 25,
   "id": "b732ff5d",
   "metadata": {},
   "outputs": [],
   "source": [
    "#printing statements using format()"
   ]
  },
  {
   "cell_type": "code",
   "execution_count": 26,
   "id": "2a5a2e0e",
   "metadata": {},
   "outputs": [
    {
     "name": "stdout",
     "output_type": "stream",
     "text": [
      "value of a = 2\n"
     ]
    }
   ],
   "source": [
    "a = 2\n",
    "print(\"value of a = {}\".format(a))"
   ]
  },
  {
   "cell_type": "code",
   "execution_count": 27,
   "id": "dcf147a9",
   "metadata": {},
   "outputs": [
    {
     "name": "stdout",
     "output_type": "stream",
     "text": [
      "value of a = 2, value of b = 3\n"
     ]
    }
   ],
   "source": [
    "a = 2\n",
    "b = 3\n",
    "print(\"value of a = {x}, value of b = {y}\".format(x = a, y = b)) # order of a and b is specified"
   ]
  },
  {
   "cell_type": "code",
   "execution_count": 28,
   "id": "f35371d3",
   "metadata": {},
   "outputs": [
    {
     "name": "stdout",
     "output_type": "stream",
     "text": [
      "value of a = 3, value of b = 2\n"
     ]
    }
   ],
   "source": [
    "a = 2\n",
    "b = 3\n",
    "print(\"value of a = {x}, value of b = {y}\".format(x = b, y = a)) # order of a and b is modified"
   ]
  },
  {
   "cell_type": "code",
   "execution_count": 29,
   "id": "fbd026e0",
   "metadata": {},
   "outputs": [
    {
     "name": "stdout",
     "output_type": "stream",
     "text": [
      "value of a = 3, value of b = 2\n"
     ]
    }
   ],
   "source": [
    "a = 2\n",
    "b = 3\n",
    "print(\"value of a = {1}, value of b = {0}\".format(a, b)) # order of a and b based on index"
   ]
  },
  {
   "cell_type": "code",
   "execution_count": 30,
   "id": "c999f8db",
   "metadata": {},
   "outputs": [],
   "source": [
    "# Using %s, %d,...etc format specifiers"
   ]
  },
  {
   "cell_type": "code",
   "execution_count": 32,
   "id": "1086a826",
   "metadata": {
    "scrolled": true
   },
   "outputs": [
    {
     "name": "stdout",
     "output_type": "stream",
     "text": [
      "Hello World!\n"
     ]
    }
   ],
   "source": [
    "print(\"%s\" % ('Hello World!'))"
   ]
  },
  {
   "cell_type": "code",
   "execution_count": 34,
   "id": "34fd8c4a",
   "metadata": {},
   "outputs": [
    {
     "name": "stdout",
     "output_type": "stream",
     "text": [
      "10\n"
     ]
    }
   ],
   "source": [
    "print(\"%d\" % (10))"
   ]
  },
  {
   "cell_type": "code",
   "execution_count": 37,
   "id": "74655b81",
   "metadata": {},
   "outputs": [],
   "source": [
    "# printing using f"
   ]
  },
  {
   "cell_type": "code",
   "execution_count": 38,
   "id": "713823d3",
   "metadata": {},
   "outputs": [
    {
     "name": "stdout",
     "output_type": "stream",
     "text": [
      "value of a = 2\n"
     ]
    }
   ],
   "source": [
    "a = 2\n",
    "print(f\"value of a = {a}\")"
   ]
  },
  {
   "cell_type": "code",
   "execution_count": 39,
   "id": "138c841c",
   "metadata": {},
   "outputs": [],
   "source": [
    "# printing raw string"
   ]
  },
  {
   "cell_type": "code",
   "execution_count": 43,
   "id": "b7ed832f",
   "metadata": {},
   "outputs": [
    {
     "name": "stdout",
     "output_type": "stream",
     "text": [
      "\\n Hi \\n\n",
      "\n",
      " Hi \n",
      "\n"
     ]
    }
   ],
   "source": [
    "print(r'\\n Hi \\n') # without r Hi is printed before and after a new line\n",
    "print('\\n Hi \\n')"
   ]
  },
  {
   "cell_type": "code",
   "execution_count": 44,
   "id": "c51c1a98",
   "metadata": {},
   "outputs": [],
   "source": [
    "# printing values seperated by seperator"
   ]
  },
  {
   "cell_type": "code",
   "execution_count": 45,
   "id": "89b93a35",
   "metadata": {},
   "outputs": [
    {
     "name": "stdout",
     "output_type": "stream",
     "text": [
      "Hello\n",
      "World\n"
     ]
    }
   ],
   "source": [
    "print(\"Hello\", \"World\", sep = '\\n')"
   ]
  },
  {
   "cell_type": "code",
   "execution_count": 46,
   "id": "e6b2338f",
   "metadata": {},
   "outputs": [],
   "source": [
    "# printing values with specific end symbol"
   ]
  },
  {
   "cell_type": "code",
   "execution_count": 47,
   "id": "88bc3046",
   "metadata": {},
   "outputs": [
    {
     "name": "stdout",
     "output_type": "stream",
     "text": [
      "Hello World!"
     ]
    }
   ],
   "source": [
    "print(\"Hello\", \"World\", end = '!')"
   ]
  },
  {
   "cell_type": "code",
   "execution_count": 48,
   "id": "169448e2",
   "metadata": {},
   "outputs": [],
   "source": [
    "# String Methods"
   ]
  },
  {
   "cell_type": "code",
   "execution_count": 51,
   "id": "46e19f00",
   "metadata": {},
   "outputs": [
    {
     "name": "stdout",
     "output_type": "stream",
     "text": [
      "Hi Hello\n"
     ]
    }
   ],
   "source": [
    "# concatenation\n",
    "a = \"Hi\" \n",
    "print(a + \" Hello\")"
   ]
  },
  {
   "cell_type": "code",
   "execution_count": 52,
   "id": "9066d91f",
   "metadata": {},
   "outputs": [
    {
     "name": "stdout",
     "output_type": "stream",
     "text": [
      "['1', '2', '3']\n"
     ]
    }
   ],
   "source": [
    "# splitting a string based on a delimeter\n",
    "a = \"1, 2, 3\"\n",
    "print(a.split(\", \"))"
   ]
  },
  {
   "cell_type": "code",
   "execution_count": 54,
   "id": "9e6b5b79",
   "metadata": {},
   "outputs": [
    {
     "name": "stdout",
     "output_type": "stream",
     "text": [
      "Hi\n"
     ]
    }
   ],
   "source": [
    "# removing spaces before and after the string\n",
    "a = ' Hi '\n",
    "print(a.strip())"
   ]
  },
  {
   "cell_type": "code",
   "execution_count": 56,
   "id": "34ae7a65",
   "metadata": {},
   "outputs": [
    {
     "name": "stdout",
     "output_type": "stream",
     "text": [
      "world\n"
     ]
    }
   ],
   "source": [
    "# replace method\n",
    "a = \"World\"\n",
    "print(a.replace('W', 'w'))"
   ]
  },
  {
   "cell_type": "code",
   "execution_count": 57,
   "id": "00378645",
   "metadata": {},
   "outputs": [
    {
     "name": "stdout",
     "output_type": "stream",
     "text": [
      "1\n"
     ]
    }
   ],
   "source": [
    "# index method\n",
    "print(\"HELLO WORLD!\".index('E'))"
   ]
  },
  {
   "cell_type": "code",
   "execution_count": 59,
   "id": "e06eeca9",
   "metadata": {},
   "outputs": [
    {
     "name": "stdout",
     "output_type": "stream",
     "text": [
      "3\n"
     ]
    }
   ],
   "source": [
    "# count method\n",
    "print(\"HELLO WORLD!\".count('L'))"
   ]
  },
  {
   "cell_type": "code",
   "execution_count": 60,
   "id": "eec53f2d",
   "metadata": {},
   "outputs": [
    {
     "name": "stdout",
     "output_type": "stream",
     "text": [
      "True\n"
     ]
    }
   ],
   "source": [
    "# Checking for uppercase lowercase\n",
    "print(\"HELLO\".isupper())"
   ]
  },
  {
   "cell_type": "code",
   "execution_count": 61,
   "id": "a0ed8a6c",
   "metadata": {},
   "outputs": [
    {
     "name": "stdout",
     "output_type": "stream",
     "text": [
      "False\n"
     ]
    }
   ],
   "source": [
    "print(\"HELLO\".islower())"
   ]
  },
  {
   "cell_type": "code",
   "execution_count": 62,
   "id": "f409abc5",
   "metadata": {},
   "outputs": [
    {
     "name": "stdout",
     "output_type": "stream",
     "text": [
      "Hello\n"
     ]
    }
   ],
   "source": [
    "# Capitalize the string\n",
    "print(\"HELLO\".capitalize())"
   ]
  },
  {
   "cell_type": "code",
   "execution_count": 63,
   "id": "58106e89",
   "metadata": {},
   "outputs": [
    {
     "name": "stdout",
     "output_type": "stream",
     "text": [
      "hello\n"
     ]
    }
   ],
   "source": [
    "# Lowercase transform\n",
    "print(\"HELLO\".lower())"
   ]
  },
  {
   "cell_type": "code",
   "execution_count": 64,
   "id": "63062489",
   "metadata": {},
   "outputs": [
    {
     "name": "stdout",
     "output_type": "stream",
     "text": [
      "HELLO\n"
     ]
    }
   ],
   "source": [
    "# uppercase transform\n",
    "print(\"Hello\".upper())"
   ]
  },
  {
   "cell_type": "code",
   "execution_count": 65,
   "id": "75d8d958",
   "metadata": {},
   "outputs": [],
   "source": [
    "# int()"
   ]
  },
  {
   "cell_type": "code",
   "execution_count": 66,
   "id": "edbc74b2",
   "metadata": {},
   "outputs": [
    {
     "name": "stdout",
     "output_type": "stream",
     "text": [
      "<class 'str'>\n",
      "<class 'int'>\n"
     ]
    }
   ],
   "source": [
    "a = '1'\n",
    "print(type(a))\n",
    "a = int(a)\n",
    "print(type(a))"
   ]
  },
  {
   "cell_type": "code",
   "execution_count": 67,
   "id": "12ac77c6",
   "metadata": {},
   "outputs": [],
   "source": [
    "# float()"
   ]
  },
  {
   "cell_type": "code",
   "execution_count": 70,
   "id": "89213e11",
   "metadata": {},
   "outputs": [
    {
     "name": "stdout",
     "output_type": "stream",
     "text": [
      "<class 'str'>\n",
      "1.03 <class 'float'>\n"
     ]
    }
   ],
   "source": [
    "a = '1.03'\n",
    "print(type(a))\n",
    "a = float(a)\n",
    "print(a, type(a))"
   ]
  },
  {
   "cell_type": "code",
   "execution_count": null,
   "id": "a9c823d4",
   "metadata": {},
   "outputs": [],
   "source": []
  }
 ],
 "metadata": {
  "kernelspec": {
   "display_name": "Python 3 (ipykernel)",
   "language": "python",
   "name": "python3"
  },
  "language_info": {
   "codemirror_mode": {
    "name": "ipython",
    "version": 3
   },
   "file_extension": ".py",
   "mimetype": "text/x-python",
   "name": "python",
   "nbconvert_exporter": "python",
   "pygments_lexer": "ipython3",
   "version": "3.9.7"
  }
 },
 "nbformat": 4,
 "nbformat_minor": 5
}
